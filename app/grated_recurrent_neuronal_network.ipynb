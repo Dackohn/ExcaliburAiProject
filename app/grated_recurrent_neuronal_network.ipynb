{
 "cells": [
  {
   "cell_type": "code",
   "execution_count": 1,
   "metadata": {},
   "outputs": [],
   "source": [
    "import pandas as pd\n",
    "import numpy as np\n",
    "import nltk\n",
    "from nltk.tokenize import word_tokenize\n",
    "from nltk.stem import WordNetLemmatizer\n",
    "from nltk.corpus import stopwords\n",
    "import matplotlib.pyplot as plt\n",
    "import re\n",
    "import seaborn as sns\n",
    "from sklearn.feature_extraction.text import TfidfVectorizer\n",
    "from imblearn.under_sampling import RandomUnderSampler\n",
    "from sklearn.model_selection import KFold, cross_val_score\n",
    "from sklearn.linear_model import LogisticRegression\n",
    "\n",
    "#nltk.download('punkt')\n",
    "#nltk.download('wordnet')\n",
    "#nltk.download('stopwords')\n",
    "def transform_sentiment_to_number(row):\n",
    "    if row == 'positive':\n",
    "        return 2\n",
    "    elif row == 'neutral':\n",
    "        return 1\n",
    "    elif row == 'negative':\n",
    "        return 0\n",
    "    return None\n",
    "\n",
    "def map_sentiment(row):\n",
    "    if row == 'positive':\n",
    "        return 'positive'\n",
    "    elif row == 'neutral':\n",
    "        return 'neutral'\n",
    "    elif row == 'negative':\n",
    "        return 'negative'\n",
    "    elif row == 'Positive':\n",
    "        return 'positive'\n",
    "    elif row == 'Neutral':\n",
    "        return 'neutral'\n",
    "    elif row == 'Negative':\n",
    "        return 'negative'\n",
    "    elif row == 'Irrelevant':\n",
    "        return 'neutral'\n",
    "    return None\n",
    "\n",
    "def preprocess_text(text):\n",
    "    # Elimină caracterele non-alfabetice\n",
    "    text = re.sub(r'[^a-zA-Z]', ' ', text)\n",
    "    # Transformă textul în litere mici\n",
    "    text = text.lower()\n",
    "    # Tokenizare și eliminarea stopwords + lematizare\n",
    "    text = [lemmatizer.lemmatize(word) for word in text.split() if word not in stop_words]\n",
    "    text = ' '.join(text)\n",
    "    return text\n"
   ]
  },
  {
   "cell_type": "code",
   "execution_count": 2,
   "metadata": {},
   "outputs": [],
   "source": [
    "# Citirea dataseturilor și extragerea textului și a sentimentelor\n",
    "data_tweets = pd.read_csv('https://raw.githubusercontent.com/Dackohn/ExcaliburAiProject/refs/heads/main/datasets/Tweets.csv')\n",
    "data_tweets=data_tweets[['text','airline_sentiment']]\n",
    "\n",
    "data_sentiment = pd.read_csv('https://raw.githubusercontent.com/Dackohn/ExcaliburAiProject/refs/heads/main/datasets/sentimentdataset.csv')\n",
    "data_sentiment=data_sentiment[['Text','Sentiment']]\n",
    "\n",
    "data_imdb = pd.read_csv('https://raw.githubusercontent.com/Dackohn/ExcaliburAiProject/refs/heads/main/datasets/IMDB-Dataset.csv')\n",
    "\n",
    "data_text2 = pd.read_csv('https://raw.githubusercontent.com/Dackohn/ExcaliburAiProject/refs/heads/main/datasets/train.csv', encoding='unicode_escape')\n",
    "data_text2 = data_text2[['text','sentiment']]\n",
    "\n",
    "data_text1 = pd.read_csv('https://raw.githubusercontent.com/Dackohn/ExcaliburAiProject/refs/heads/main/datasets/test.csv', encoding='unicode_escape')\n",
    "data_text1 = data_text1[['text','sentiment']]\n",
    "\n",
    "data_titter = pd.read_csv('https://raw.githubusercontent.com/Dackohn/ExcaliburAiProject/refs/heads/main/datasets/twitter_training.csv', encoding='unicode_escape')\n",
    "nume_col = ['Coloana1', 'Coloana2','sentiment', 'text']\n",
    "data_titter.columns = nume_col\n",
    "data_titter = data_titter[['text','sentiment']]\n"
   ]
  },
  {
   "cell_type": "code",
   "execution_count": 4,
   "metadata": {},
   "outputs": [],
   "source": [
    "# Redenumirea coloanelor pentru consistență\n",
    "data_imdb = data_imdb.rename(columns={\n",
    "    'review': 'text',\n",
    "    'sentiment': 'sentiment'\n",
    "})\n",
    "\n",
    "data_tweets = data_tweets.rename(columns={\n",
    "    'review': 'text',\n",
    "    'airline_sentiment': 'sentiment'\n",
    "})\n",
    "\n",
    "data_sentiment = data_sentiment.rename(columns={\n",
    "    'Text': 'text',\n",
    "    'Sentiment': 'sentiment'\n",
    "})"
   ]
  },
  {
   "cell_type": "code",
   "execution_count": 5,
   "metadata": {},
   "outputs": [],
   "source": [
    "# Combinarea tuturor dataseturilor într-un singur DataFrame\n",
    "data_combined = pd.concat([data_titter, data_imdb, data_sentiment, data_text1, data_text2, data_tweets], ignore_index=True)\n",
    "# Normalizarea sentimentelor\n",
    "data_combined['sentiment'] = data_combined['sentiment'].apply(map_sentiment)\n",
    "# Eliminarea valorilor lipsă\n",
    "data_combined = data_combined.dropna(subset=['sentiment'])\n",
    "data_combined = data_combined.dropna(subset=['text'])\n",
    "\n",
    "# Balansare dataset\n",
    "X = data_combined['text']\n",
    "y = data_combined['sentiment']\n",
    "\n",
    "rus = RandomUnderSampler(sampling_strategy='auto', random_state=42)\n",
    "X_res, y_res = rus.fit_resample(X.values.reshape(-1, 1), y)\n",
    "\n",
    "data_combined_balanced = pd.DataFrame({\n",
    "    'text': X_res.flatten(),\n",
    "    'sentiment': y_res\n",
    "})\n",
    "# Actualizați 'data_combined' cu dataset-ul echilibrat\n",
    "data_combined = data_combined_balanced"
   ]
  },
  {
   "cell_type": "code",
   "execution_count": 6,
   "metadata": {},
   "outputs": [
    {
     "data": {
      "text/plain": [
       "0         negative\n",
       "1         negative\n",
       "2         negative\n",
       "3         negative\n",
       "4         negative\n",
       "            ...   \n",
       "139879    positive\n",
       "139880    positive\n",
       "139881    positive\n",
       "139882    positive\n",
       "139883    positive\n",
       "Name: sentiment, Length: 139884, dtype: object"
      ]
     },
     "execution_count": 6,
     "metadata": {},
     "output_type": "execute_result"
    }
   ],
   "source": [
    "data_combined['sentiment']\n"
   ]
  },
  {
   "cell_type": "code",
   "execution_count": 7,
   "metadata": {},
   "outputs": [],
   "source": [
    "# Definirea stopwords și lematizatorului\n",
    "stop_words = set(stopwords.words('english'))\n",
    "lemmatizer = WordNetLemmatizer()\n",
    "\n",
    "# Preprocesarea textului\n",
    "data_combined['text'] = data_combined['text'].apply(preprocess_text)\n",
    "data_combined['sentiment']=data_combined['sentiment'].apply(transform_sentiment_to_number)\n",
    "\n",
    "X_res = data_combined['text']\n",
    "y_res = data_combined['sentiment']"
   ]
  },
  {
   "cell_type": "code",
   "execution_count": 6,
   "metadata": {},
   "outputs": [],
   "source": [
    "data_combined['sentiment']=data_combined['sentiment'].apply(transform_sentiment_to_number)"
   ]
  },
  {
   "cell_type": "code",
   "execution_count": 40,
   "metadata": {},
   "outputs": [
    {
     "data": {
      "text/plain": [
       "array([None, None, None, ..., None, None, None], dtype=object)"
      ]
     },
     "execution_count": 40,
     "metadata": {},
     "output_type": "execute_result"
    }
   ],
   "source": [
    "data_combined['sentiment'].apply(transform_sentiment_to_number).values"
   ]
  },
  {
   "cell_type": "code",
   "execution_count": 56,
   "metadata": {},
   "outputs": [
    {
     "data": {
      "text/plain": [
       "0         0\n",
       "1         0\n",
       "2         0\n",
       "3         0\n",
       "4         0\n",
       "         ..\n",
       "139879    2\n",
       "139880    2\n",
       "139881    2\n",
       "139882    2\n",
       "139883    2\n",
       "Name: sentiment, Length: 139884, dtype: int64"
      ]
     },
     "execution_count": 56,
     "metadata": {},
     "output_type": "execute_result"
    }
   ],
   "source": [
    "data_combined['sentiment']"
   ]
  },
  {
   "cell_type": "code",
   "execution_count": 57,
   "metadata": {},
   "outputs": [
    {
     "data": {
      "text/plain": [
       "0         0\n",
       "1         0\n",
       "2         0\n",
       "3         0\n",
       "4         0\n",
       "         ..\n",
       "139879    2\n",
       "139880    2\n",
       "139881    2\n",
       "139882    2\n",
       "139883    2\n",
       "Name: sentiment, Length: 139884, dtype: int64"
      ]
     },
     "execution_count": 57,
     "metadata": {},
     "output_type": "execute_result"
    }
   ],
   "source": [
    "y_res"
   ]
  },
  {
   "cell_type": "code",
   "execution_count": 58,
   "metadata": {},
   "outputs": [
    {
     "data": {
      "text/plain": [
       "0         0\n",
       "1         0\n",
       "2         0\n",
       "3         0\n",
       "4         0\n",
       "         ..\n",
       "139879    2\n",
       "139880    2\n",
       "139881    2\n",
       "139882    2\n",
       "139883    2\n",
       "Name: sentiment, Length: 139884, dtype: int64"
      ]
     },
     "execution_count": 58,
     "metadata": {},
     "output_type": "execute_result"
    }
   ],
   "source": [
    "y_res"
   ]
  },
  {
   "cell_type": "code",
   "execution_count": 59,
   "metadata": {},
   "outputs": [
    {
     "name": "stdout",
     "output_type": "stream",
     "text": [
      "K-Fold Cross Validation Accuracy Scores: [0.68055903 0.67866462 0.67534046 0.67580513 0.67933228]\n",
      "Mean Accuracy: 0.6779403033369182\n"
     ]
    }
   ],
   "source": [
    "# Vectorizare text\n",
    "vectorizer = TfidfVectorizer(max_features=1000)\n",
    "X = vectorizer.fit_transform(X_res)\n",
    "\n",
    "# Transformarea sentimentelor în numere\n",
    "y = y_res\n",
    "\n",
    "# Implementare K-Fold Cross Validation\n",
    "kf = KFold(n_splits=5, shuffle=True, random_state=42)\n",
    "model = LogisticRegression(max_iter=1000)\n",
    "scores = cross_val_score(model, X, y, cv=kf, scoring='accuracy')\n",
    "print(\"K-Fold Cross Validation Accuracy Scores:\", scores)\n",
    "print(\"Mean Accuracy:\", scores.mean())"
   ]
  },
  {
   "cell_type": "code",
   "execution_count": 70,
   "metadata": {},
   "outputs": [
    {
     "name": "stdout",
     "output_type": "stream",
     "text": [
      "Epoch 1/10\n",
      "\u001b[1m1749/1749\u001b[0m \u001b[32m━━━━━━━━━━━━━━━━━━━━\u001b[0m\u001b[37m\u001b[0m \u001b[1m32s\u001b[0m 17ms/step - accuracy: 0.5606 - loss: 0.8901 - val_accuracy: 0.6964 - val_loss: 0.6848\n",
      "Epoch 2/10\n",
      "\u001b[1m1749/1749\u001b[0m \u001b[32m━━━━━━━━━━━━━━━━━━━━\u001b[0m\u001b[37m\u001b[0m \u001b[1m31s\u001b[0m 18ms/step - accuracy: 0.7375 - loss: 0.6225 - val_accuracy: 0.7252 - val_loss: 0.6391\n",
      "Epoch 3/10\n",
      "\u001b[1m1749/1749\u001b[0m \u001b[32m━━━━━━━━━━━━━━━━━━━━\u001b[0m\u001b[37m\u001b[0m \u001b[1m32s\u001b[0m 18ms/step - accuracy: 0.7789 - loss: 0.5372 - val_accuracy: 0.7356 - val_loss: 0.6282\n",
      "Epoch 4/10\n",
      "\u001b[1m1749/1749\u001b[0m \u001b[32m━━━━━━━━━━━━━━━━━━━━\u001b[0m\u001b[37m\u001b[0m \u001b[1m28s\u001b[0m 16ms/step - accuracy: 0.8184 - loss: 0.4563 - val_accuracy: 0.7368 - val_loss: 0.6465\n",
      "Epoch 5/10\n",
      "\u001b[1m1749/1749\u001b[0m \u001b[32m━━━━━━━━━━━━━━━━━━━━\u001b[0m\u001b[37m\u001b[0m \u001b[1m30s\u001b[0m 17ms/step - accuracy: 0.8464 - loss: 0.3913 - val_accuracy: 0.7497 - val_loss: 0.6646\n",
      "Epoch 6/10\n",
      "\u001b[1m1749/1749\u001b[0m \u001b[32m━━━━━━━━━━━━━━━━━━━━\u001b[0m\u001b[37m\u001b[0m \u001b[1m32s\u001b[0m 18ms/step - accuracy: 0.8684 - loss: 0.3394 - val_accuracy: 0.7462 - val_loss: 0.7120\n",
      "Epoch 7/10\n",
      "\u001b[1m1749/1749\u001b[0m \u001b[32m━━━━━━━━━━━━━━━━━━━━\u001b[0m\u001b[37m\u001b[0m \u001b[1m38s\u001b[0m 21ms/step - accuracy: 0.8873 - loss: 0.2953 - val_accuracy: 0.7439 - val_loss: 0.8001\n",
      "Epoch 8/10\n",
      "\u001b[1m1749/1749\u001b[0m \u001b[32m━━━━━━━━━━━━━━━━━━━━\u001b[0m\u001b[37m\u001b[0m \u001b[1m33s\u001b[0m 19ms/step - accuracy: 0.8990 - loss: 0.2628 - val_accuracy: 0.7477 - val_loss: 0.8243\n",
      "Epoch 9/10\n",
      "\u001b[1m1749/1749\u001b[0m \u001b[32m━━━━━━━━━━━━━━━━━━━━\u001b[0m\u001b[37m\u001b[0m \u001b[1m31s\u001b[0m 18ms/step - accuracy: 0.9126 - loss: 0.2285 - val_accuracy: 0.7459 - val_loss: 0.8921\n",
      "Epoch 10/10\n",
      "\u001b[1m1749/1749\u001b[0m \u001b[32m━━━━━━━━━━━━━━━━━━━━\u001b[0m\u001b[37m\u001b[0m \u001b[1m36s\u001b[0m 21ms/step - accuracy: 0.9216 - loss: 0.2059 - val_accuracy: 0.7410 - val_loss: 0.9948\n",
      "\u001b[1m875/875\u001b[0m \u001b[32m━━━━━━━━━━━━━━━━━━━━\u001b[0m\u001b[37m\u001b[0m \u001b[1m3s\u001b[0m 4ms/step - accuracy: 0.7427 - loss: 0.9871\n",
      "Test Accuracy: 0.7410\n"
     ]
    }
   ],
   "source": [
    "from sklearn.model_selection import train_test_split\n",
    "from tensorflow.keras.preprocessing.text import Tokenizer\n",
    "from tensorflow.keras.preprocessing.sequence import pad_sequences\n",
    "from tensorflow.keras.models import Sequential\n",
    "from tensorflow.keras.layers import Embedding, GRU, Dense, Dropout\n",
    "\n",
    "# 1. Pregătirea datelor\n",
    "# Tokenizare și transformare în secvențe\n",
    "tokenizer = Tokenizer(num_words=10000, oov_token=\"<OOV>\")\n",
    "tokenizer.fit_on_texts(data_combined['text'])\n",
    "sequences = tokenizer.texts_to_sequences(data_combined['text'])\n",
    "\n",
    "# Padding pentru a uniformiza lungimea secvențelor\n",
    "max_length = 18\n",
    "X = pad_sequences(sequences, maxlen=max_length, padding='post')\n",
    "\n",
    "# Transformare etichete (y) în format numeric\n",
    "y = y_res\n",
    "\n",
    "# Împărțire în seturi de antrenare și testare\n",
    "X_train, X_test, y_train, y_test = train_test_split(X, y, test_size=0.2, random_state=42)\n",
    "\n",
    "# 2. Crearea modelului GRU\n",
    "model = Sequential([\n",
    "    Embedding(input_dim=10000, output_dim=128, input_length=max_length),\n",
    "    GRU(64, return_sequences=False),  # GRU cu 64 de unități\n",
    "    Dropout(0.5),                     # Dropout pentru regularizare\n",
    "    Dense(32, activation='relu'),     # Fully connected layer\n",
    "    Dense(3, activation='softmax')    # 3 clase (pozitiv, negativ, neutru)\n",
    "])\n",
    "\n",
    "# 3. Compilarea modelului\n",
    "model.compile(optimizer='adam',\n",
    "              loss='sparse_categorical_crossentropy',\n",
    "              metrics=['accuracy'])\n",
    "\n",
    "# 4. Antrenarea modelului\n",
    "history = model.fit(\n",
    "    X_train, y_train,\n",
    "    validation_data=(X_test, y_test),\n",
    "    epochs=10,  # Ajustați în funcție de resurse și date\n",
    "    batch_size=64,\n",
    "    verbose=1\n",
    ")\n",
    "\n",
    "# 5. Evaluarea performanței\n",
    "loss, accuracy = model.evaluate(X_test, y_test, verbose=1)\n",
    "print(f\"Test Accuracy: {accuracy:.4f}\")\n"
   ]
  },
  {
   "cell_type": "code",
   "execution_count": null,
   "metadata": {},
   "outputs": [],
   "source": []
  },
  {
   "cell_type": "code",
   "execution_count": null,
   "metadata": {},
   "outputs": [],
   "source": []
  },
  {
   "cell_type": "code",
   "execution_count": null,
   "metadata": {},
   "outputs": [],
   "source": [
    "#workin"
   ]
  },
  {
   "cell_type": "code",
   "execution_count": 61,
   "metadata": {},
   "outputs": [
    {
     "name": "stdout",
     "output_type": "stream",
     "text": [
      "Epoch 1/10\n"
     ]
    },
    {
     "name": "stderr",
     "output_type": "stream",
     "text": [
      "C:\\Users\\User\\AppData\\Local\\Packages\\PythonSoftwareFoundation.Python.3.11_qbz5n2kfra8p0\\LocalCache\\local-packages\\Python311\\site-packages\\keras\\src\\layers\\core\\embedding.py:90: UserWarning: Argument `input_length` is deprecated. Just remove it.\n",
      "  warnings.warn(\n"
     ]
    },
    {
     "name": "stdout",
     "output_type": "stream",
     "text": [
      "\u001b[1m1749/1749\u001b[0m \u001b[32m━━━━━━━━━━━━━━━━━━━━\u001b[0m\u001b[37m\u001b[0m \u001b[1m96s\u001b[0m 53ms/step - accuracy: 0.4118 - loss: 1.0317 - val_accuracy: 0.5612 - val_loss: 0.8758\n",
      "Epoch 2/10\n",
      "\u001b[1m1749/1749\u001b[0m \u001b[32m━━━━━━━━━━━━━━━━━━━━\u001b[0m\u001b[37m\u001b[0m \u001b[1m116s\u001b[0m 66ms/step - accuracy: 0.5605 - loss: 0.8806 - val_accuracy: 0.5705 - val_loss: 0.8606\n",
      "Epoch 3/10\n",
      "\u001b[1m1749/1749\u001b[0m \u001b[32m━━━━━━━━━━━━━━━━━━━━\u001b[0m\u001b[37m\u001b[0m \u001b[1m113s\u001b[0m 65ms/step - accuracy: 0.5868 - loss: 0.8086 - val_accuracy: 0.6536 - val_loss: 0.7409\n",
      "Epoch 4/10\n",
      "\u001b[1m1749/1749\u001b[0m \u001b[32m━━━━━━━━━━━━━━━━━━━━\u001b[0m\u001b[37m\u001b[0m \u001b[1m112s\u001b[0m 64ms/step - accuracy: 0.6650 - loss: 0.7267 - val_accuracy: 0.6901 - val_loss: 0.6865\n",
      "Epoch 5/10\n",
      "\u001b[1m1749/1749\u001b[0m \u001b[32m━━━━━━━━━━━━━━━━━━━━\u001b[0m\u001b[37m\u001b[0m \u001b[1m125s\u001b[0m 71ms/step - accuracy: 0.6980 - loss: 0.6756 - val_accuracy: 0.7042 - val_loss: 0.6614\n",
      "Epoch 6/10\n",
      "\u001b[1m1749/1749\u001b[0m \u001b[32m━━━━━━━━━━━━━━━━━━━━\u001b[0m\u001b[37m\u001b[0m \u001b[1m116s\u001b[0m 67ms/step - accuracy: 0.7197 - loss: 0.6452 - val_accuracy: 0.7128 - val_loss: 0.6489\n",
      "Epoch 7/10\n",
      "\u001b[1m1749/1749\u001b[0m \u001b[32m━━━━━━━━━━━━━━━━━━━━\u001b[0m\u001b[37m\u001b[0m \u001b[1m101s\u001b[0m 58ms/step - accuracy: 0.7382 - loss: 0.6128 - val_accuracy: 0.7183 - val_loss: 0.6394\n",
      "Epoch 8/10\n",
      "\u001b[1m1749/1749\u001b[0m \u001b[32m━━━━━━━━━━━━━━━━━━━━\u001b[0m\u001b[37m\u001b[0m \u001b[1m144s\u001b[0m 59ms/step - accuracy: 0.7523 - loss: 0.5875 - val_accuracy: 0.7265 - val_loss: 0.6270\n",
      "Epoch 9/10\n",
      "\u001b[1m1749/1749\u001b[0m \u001b[32m━━━━━━━━━━━━━━━━━━━━\u001b[0m\u001b[37m\u001b[0m \u001b[1m104s\u001b[0m 59ms/step - accuracy: 0.7660 - loss: 0.5632 - val_accuracy: 0.7287 - val_loss: 0.6277\n",
      "Epoch 10/10\n",
      "\u001b[1m1749/1749\u001b[0m \u001b[32m━━━━━━━━━━━━━━━━━━━━\u001b[0m\u001b[37m\u001b[0m \u001b[1m103s\u001b[0m 59ms/step - accuracy: 0.7778 - loss: 0.5436 - val_accuracy: 0.7404 - val_loss: 0.6083\n",
      "\u001b[1m875/875\u001b[0m \u001b[32m━━━━━━━━━━━━━━━━━━━━\u001b[0m\u001b[37m\u001b[0m \u001b[1m13s\u001b[0m 15ms/step - accuracy: 0.7393 - loss: 0.6095\n",
      "Test Accuracy: 0.7404\n"
     ]
    }
   ],
   "source": [
    "import numpy as np\n",
    "from sklearn.model_selection import train_test_split\n",
    "from tensorflow.keras.preprocessing.text import Tokenizer\n",
    "from tensorflow.keras.preprocessing.sequence import pad_sequences\n",
    "from tensorflow.keras.models import Sequential\n",
    "from tensorflow.keras.layers import Embedding, GRU, Dense, Dropout\n",
    "\n",
    "# 1. Pregătirea datelor\n",
    "num_words = 30000\n",
    "max_length = 180\n",
    "embedding_dim = 100\n",
    "\n",
    "tokenizer = Tokenizer(num_words=num_words, oov_token=\"<OOV>\")\n",
    "tokenizer.fit_on_texts(data_combined['text'])\n",
    "sequences = tokenizer.texts_to_sequences(data_combined['text'])\n",
    "X = pad_sequences(sequences, maxlen=max_length, padding='post')\n",
    "y = y_res\n",
    "\n",
    "X_train, X_test, y_train, y_test = train_test_split(X, y, test_size=0.2, random_state=42)\n",
    "\n",
    "\n",
    "# 2. Pregătirea embedding-ului GloVe\n",
    "embedding_index = {}\n",
    "with open('glove.6B/glove.6B.100d.txt', 'r', encoding='utf-8') as f:\n",
    "    for line in f:\n",
    "        values = line.split()\n",
    "        word = values[0]\n",
    "        vectors = np.array(values[1:], dtype='float32')\n",
    "        embedding_index[word] = vectors\n",
    "\n",
    "embedding_matrix = np.zeros((num_words, embedding_dim))\n",
    "for word, i in tokenizer.word_index.items():\n",
    "    if i < num_words:\n",
    "        embedding_vector = embedding_index.get(word)\n",
    "        if embedding_vector is not None:\n",
    "            embedding_matrix[i] = embedding_vector\n",
    "\n",
    "# 3. Crearea modelului\n",
    "model = Sequential([\n",
    "    Embedding(input_dim=num_words, \n",
    "              output_dim=embedding_dim, \n",
    "              weights=[embedding_matrix], \n",
    "              input_length=max_length, \n",
    "              trainable=False),\n",
    "    GRU(64, return_sequences=False),\n",
    "    Dropout(0.5),\n",
    "    Dense(32, activation='relu'),\n",
    "    Dense(3, activation='softmax')\n",
    "])\n",
    "\n",
    "# 4. Compilarea și antrenarea modelului\n",
    "model.compile(optimizer='adam',\n",
    "              loss='sparse_categorical_crossentropy',\n",
    "              metrics=['accuracy'])\n",
    "history = model.fit(X_train, y_train, validation_data=(X_test, y_test), epochs=10, batch_size=64, verbose=1)\n",
    "\n",
    "# 5. Evaluarea performanței\n",
    "loss, accuracy = model.evaluate(X_test, y_test, verbose=1)\n",
    "print(f\"Test Accuracy: {accuracy:.4f}\")\n"
   ]
  },
  {
   "cell_type": "code",
   "execution_count": 44,
   "metadata": {},
   "outputs": [
    {
     "name": "stdout",
     "output_type": "stream",
     "text": [
      "int32 int32\n",
      "object object\n"
     ]
    }
   ],
   "source": []
  },
  {
   "cell_type": "code",
   "execution_count": 66,
   "metadata": {},
   "outputs": [
    {
     "name": "stdout",
     "output_type": "stream",
     "text": [
      "Processing fold 1/5...\n",
      "Epoch 1/10\n"
     ]
    },
    {
     "name": "stderr",
     "output_type": "stream",
     "text": [
      "C:\\Users\\User\\AppData\\Local\\Packages\\PythonSoftwareFoundation.Python.3.11_qbz5n2kfra8p0\\LocalCache\\local-packages\\Python311\\site-packages\\keras\\src\\layers\\core\\embedding.py:90: UserWarning: Argument `input_length` is deprecated. Just remove it.\n",
      "  warnings.warn(\n"
     ]
    },
    {
     "name": "stdout",
     "output_type": "stream",
     "text": [
      "\u001b[1m1749/1749\u001b[0m \u001b[32m━━━━━━━━━━━━━━━━━━━━\u001b[0m\u001b[37m\u001b[0m \u001b[1m121s\u001b[0m 67ms/step - accuracy: 0.3909 - loss: 1.0503\n",
      "Epoch 2/10\n",
      "\u001b[1m1749/1749\u001b[0m \u001b[32m━━━━━━━━━━━━━━━━━━━━\u001b[0m\u001b[37m\u001b[0m \u001b[1m141s\u001b[0m 66ms/step - accuracy: 0.5835 - loss: 0.8195\n",
      "Epoch 3/10\n",
      "\u001b[1m1749/1749\u001b[0m \u001b[32m━━━━━━━━━━━━━━━━━━━━\u001b[0m\u001b[37m\u001b[0m \u001b[1m117s\u001b[0m 67ms/step - accuracy: 0.6066 - loss: 0.7874\n",
      "Epoch 4/10\n",
      "\u001b[1m1749/1749\u001b[0m \u001b[32m━━━━━━━━━━━━━━━━━━━━\u001b[0m\u001b[37m\u001b[0m \u001b[1m122s\u001b[0m 70ms/step - accuracy: 0.6207 - loss: 0.7599\n",
      "Epoch 5/10\n",
      "\u001b[1m1749/1749\u001b[0m \u001b[32m━━━━━━━━━━━━━━━━━━━━\u001b[0m\u001b[37m\u001b[0m \u001b[1m114s\u001b[0m 65ms/step - accuracy: 0.6318 - loss: 0.7370\n",
      "Epoch 6/10\n",
      "\u001b[1m1749/1749\u001b[0m \u001b[32m━━━━━━━━━━━━━━━━━━━━\u001b[0m\u001b[37m\u001b[0m \u001b[1m111s\u001b[0m 63ms/step - accuracy: 0.6871 - loss: 0.6914\n",
      "Epoch 7/10\n",
      "\u001b[1m1749/1749\u001b[0m \u001b[32m━━━━━━━━━━━━━━━━━━━━\u001b[0m\u001b[37m\u001b[0m \u001b[1m116s\u001b[0m 66ms/step - accuracy: 0.7306 - loss: 0.6236\n",
      "Epoch 8/10\n",
      "\u001b[1m1749/1749\u001b[0m \u001b[32m━━━━━━━━━━━━━━━━━━━━\u001b[0m\u001b[37m\u001b[0m \u001b[1m113s\u001b[0m 65ms/step - accuracy: 0.7531 - loss: 0.5898\n",
      "Epoch 9/10\n",
      "\u001b[1m1749/1749\u001b[0m \u001b[32m━━━━━━━━━━━━━━━━━━━━\u001b[0m\u001b[37m\u001b[0m \u001b[1m111s\u001b[0m 64ms/step - accuracy: 0.7713 - loss: 0.5562\n",
      "Epoch 10/10\n",
      "\u001b[1m1749/1749\u001b[0m \u001b[32m━━━━━━━━━━━━━━━━━━━━\u001b[0m\u001b[37m\u001b[0m \u001b[1m142s\u001b[0m 64ms/step - accuracy: 0.7883 - loss: 0.5233\n",
      "\u001b[1m875/875\u001b[0m \u001b[32m━━━━━━━━━━━━━━━━━━━━\u001b[0m\u001b[37m\u001b[0m \u001b[1m17s\u001b[0m 19ms/step - accuracy: 0.7517 - loss: 0.5814\n",
      "Fold 1 - Test Accuracy: 0.7455\n",
      "Processing fold 2/5...\n",
      "Epoch 1/10\n"
     ]
    },
    {
     "name": "stderr",
     "output_type": "stream",
     "text": [
      "C:\\Users\\User\\AppData\\Local\\Packages\\PythonSoftwareFoundation.Python.3.11_qbz5n2kfra8p0\\LocalCache\\local-packages\\Python311\\site-packages\\keras\\src\\layers\\core\\embedding.py:90: UserWarning: Argument `input_length` is deprecated. Just remove it.\n",
      "  warnings.warn(\n"
     ]
    },
    {
     "name": "stdout",
     "output_type": "stream",
     "text": [
      "\u001b[1m1749/1749\u001b[0m \u001b[32m━━━━━━━━━━━━━━━━━━━━\u001b[0m\u001b[37m\u001b[0m \u001b[1m111s\u001b[0m 62ms/step - accuracy: 0.4203 - loss: 1.0225\n",
      "Epoch 2/10\n",
      "\u001b[1m1749/1749\u001b[0m \u001b[32m━━━━━━━━━━━━━━━━━━━━\u001b[0m\u001b[37m\u001b[0m \u001b[1m109s\u001b[0m 62ms/step - accuracy: 0.5845 - loss: 0.8253\n",
      "Epoch 3/10\n",
      "\u001b[1m1749/1749\u001b[0m \u001b[32m━━━━━━━━━━━━━━━━━━━━\u001b[0m\u001b[37m\u001b[0m \u001b[1m155s\u001b[0m 70ms/step - accuracy: 0.6856 - loss: 0.7011\n",
      "Epoch 4/10\n",
      "\u001b[1m1749/1749\u001b[0m \u001b[32m━━━━━━━━━━━━━━━━━━━━\u001b[0m\u001b[37m\u001b[0m \u001b[1m116s\u001b[0m 66ms/step - accuracy: 0.7170 - loss: 0.6528\n",
      "Epoch 5/10\n",
      "\u001b[1m1749/1749\u001b[0m \u001b[32m━━━━━━━━━━━━━━━━━━━━\u001b[0m\u001b[37m\u001b[0m \u001b[1m113s\u001b[0m 65ms/step - accuracy: 0.7385 - loss: 0.6143\n",
      "Epoch 6/10\n",
      "\u001b[1m1749/1749\u001b[0m \u001b[32m━━━━━━━━━━━━━━━━━━━━\u001b[0m\u001b[37m\u001b[0m \u001b[1m110s\u001b[0m 63ms/step - accuracy: 0.7603 - loss: 0.5751\n",
      "Epoch 7/10\n",
      "\u001b[1m1749/1749\u001b[0m \u001b[32m━━━━━━━━━━━━━━━━━━━━\u001b[0m\u001b[37m\u001b[0m \u001b[1m101s\u001b[0m 58ms/step - accuracy: 0.7749 - loss: 0.5458\n",
      "Epoch 8/10\n",
      "\u001b[1m1749/1749\u001b[0m \u001b[32m━━━━━━━━━━━━━━━━━━━━\u001b[0m\u001b[37m\u001b[0m \u001b[1m104s\u001b[0m 59ms/step - accuracy: 0.7889 - loss: 0.5164\n",
      "Epoch 9/10\n",
      "\u001b[1m1749/1749\u001b[0m \u001b[32m━━━━━━━━━━━━━━━━━━━━\u001b[0m\u001b[37m\u001b[0m \u001b[1m108s\u001b[0m 62ms/step - accuracy: 0.8050 - loss: 0.4862\n",
      "Epoch 10/10\n",
      "\u001b[1m1749/1749\u001b[0m \u001b[32m━━━━━━━━━━━━━━━━━━━━\u001b[0m\u001b[37m\u001b[0m \u001b[1m102s\u001b[0m 58ms/step - accuracy: 0.8147 - loss: 0.4671\n",
      "\u001b[1m875/875\u001b[0m \u001b[32m━━━━━━━━━━━━━━━━━━━━\u001b[0m\u001b[37m\u001b[0m \u001b[1m16s\u001b[0m 18ms/step - accuracy: 0.7521 - loss: 0.6196\n",
      "Fold 2 - Test Accuracy: 0.7604\n",
      "Processing fold 3/5...\n",
      "Epoch 1/10\n"
     ]
    },
    {
     "name": "stderr",
     "output_type": "stream",
     "text": [
      "C:\\Users\\User\\AppData\\Local\\Packages\\PythonSoftwareFoundation.Python.3.11_qbz5n2kfra8p0\\LocalCache\\local-packages\\Python311\\site-packages\\keras\\src\\layers\\core\\embedding.py:90: UserWarning: Argument `input_length` is deprecated. Just remove it.\n",
      "  warnings.warn(\n"
     ]
    },
    {
     "name": "stdout",
     "output_type": "stream",
     "text": [
      "\u001b[1m1749/1749\u001b[0m \u001b[32m━━━━━━━━━━━━━━━━━━━━\u001b[0m\u001b[37m\u001b[0m \u001b[1m103s\u001b[0m 57ms/step - accuracy: 0.3891 - loss: 1.0504\n",
      "Epoch 2/10\n",
      "\u001b[1m1749/1749\u001b[0m \u001b[32m━━━━━━━━━━━━━━━━━━━━\u001b[0m\u001b[37m\u001b[0m \u001b[1m98s\u001b[0m 56ms/step - accuracy: 0.5667 - loss: 0.8683\n",
      "Epoch 3/10\n",
      "\u001b[1m1749/1749\u001b[0m \u001b[32m━━━━━━━━━━━━━━━━━━━━\u001b[0m\u001b[37m\u001b[0m \u001b[1m101s\u001b[0m 57ms/step - accuracy: 0.6057 - loss: 0.7841\n",
      "Epoch 4/10\n",
      "\u001b[1m1749/1749\u001b[0m \u001b[32m━━━━━━━━━━━━━━━━━━━━\u001b[0m\u001b[37m\u001b[0m \u001b[1m102s\u001b[0m 59ms/step - accuracy: 0.6895 - loss: 0.6972\n",
      "Epoch 5/10\n",
      "\u001b[1m1749/1749\u001b[0m \u001b[32m━━━━━━━━━━━━━━━━━━━━\u001b[0m\u001b[37m\u001b[0m \u001b[1m102s\u001b[0m 58ms/step - accuracy: 0.7245 - loss: 0.6401\n",
      "Epoch 6/10\n",
      "\u001b[1m1749/1749\u001b[0m \u001b[32m━━━━━━━━━━━━━━━━━━━━\u001b[0m\u001b[37m\u001b[0m \u001b[1m101s\u001b[0m 58ms/step - accuracy: 0.7448 - loss: 0.6038\n",
      "Epoch 7/10\n",
      "\u001b[1m1749/1749\u001b[0m \u001b[32m━━━━━━━━━━━━━━━━━━━━\u001b[0m\u001b[37m\u001b[0m \u001b[1m101s\u001b[0m 58ms/step - accuracy: 0.7646 - loss: 0.5681\n",
      "Epoch 8/10\n",
      "\u001b[1m1749/1749\u001b[0m \u001b[32m━━━━━━━━━━━━━━━━━━━━\u001b[0m\u001b[37m\u001b[0m \u001b[1m102s\u001b[0m 58ms/step - accuracy: 0.7788 - loss: 0.5399\n",
      "Epoch 9/10\n",
      "\u001b[1m1749/1749\u001b[0m \u001b[32m━━━━━━━━━━━━━━━━━━━━\u001b[0m\u001b[37m\u001b[0m \u001b[1m142s\u001b[0m 58ms/step - accuracy: 0.7962 - loss: 0.5071\n",
      "Epoch 10/10\n",
      "\u001b[1m1749/1749\u001b[0m \u001b[32m━━━━━━━━━━━━━━━━━━━━\u001b[0m\u001b[37m\u001b[0m \u001b[1m145s\u001b[0m 60ms/step - accuracy: 0.8094 - loss: 0.4793\n",
      "\u001b[1m875/875\u001b[0m \u001b[32m━━━━━━━━━━━━━━━━━━━━\u001b[0m\u001b[37m\u001b[0m \u001b[1m16s\u001b[0m 17ms/step - accuracy: 0.7721 - loss: 0.5549\n",
      "Fold 3 - Test Accuracy: 0.7576\n",
      "Processing fold 4/5...\n",
      "Epoch 1/10\n"
     ]
    },
    {
     "name": "stderr",
     "output_type": "stream",
     "text": [
      "C:\\Users\\User\\AppData\\Local\\Packages\\PythonSoftwareFoundation.Python.3.11_qbz5n2kfra8p0\\LocalCache\\local-packages\\Python311\\site-packages\\keras\\src\\layers\\core\\embedding.py:90: UserWarning: Argument `input_length` is deprecated. Just remove it.\n",
      "  warnings.warn(\n"
     ]
    },
    {
     "name": "stdout",
     "output_type": "stream",
     "text": [
      "\u001b[1m1749/1749\u001b[0m \u001b[32m━━━━━━━━━━━━━━━━━━━━\u001b[0m\u001b[37m\u001b[0m \u001b[1m103s\u001b[0m 58ms/step - accuracy: 0.4251 - loss: 1.0201\n",
      "Epoch 2/10\n",
      "\u001b[1m1749/1749\u001b[0m \u001b[32m━━━━━━━━━━━━━━━━━━━━\u001b[0m\u001b[37m\u001b[0m \u001b[1m101s\u001b[0m 58ms/step - accuracy: 0.5678 - loss: 0.8663\n",
      "Epoch 3/10\n",
      "\u001b[1m1749/1749\u001b[0m \u001b[32m━━━━━━━━━━━━━━━━━━━━\u001b[0m\u001b[37m\u001b[0m \u001b[1m101s\u001b[0m 58ms/step - accuracy: 0.5851 - loss: 0.8208\n",
      "Epoch 4/10\n",
      "\u001b[1m1749/1749\u001b[0m \u001b[32m━━━━━━━━━━━━━━━━━━━━\u001b[0m\u001b[37m\u001b[0m \u001b[1m101s\u001b[0m 58ms/step - accuracy: 0.6730 - loss: 0.7128\n",
      "Epoch 5/10\n",
      "\u001b[1m1749/1749\u001b[0m \u001b[32m━━━━━━━━━━━━━━━━━━━━\u001b[0m\u001b[37m\u001b[0m \u001b[1m117s\u001b[0m 67ms/step - accuracy: 0.7138 - loss: 0.6556\n",
      "Epoch 6/10\n",
      "\u001b[1m1749/1749\u001b[0m \u001b[32m━━━━━━━━━━━━━━━━━━━━\u001b[0m\u001b[37m\u001b[0m \u001b[1m108s\u001b[0m 62ms/step - accuracy: 0.7362 - loss: 0.6110\n",
      "Epoch 7/10\n",
      "\u001b[1m1749/1749\u001b[0m \u001b[32m━━━━━━━━━━━━━━━━━━━━\u001b[0m\u001b[37m\u001b[0m \u001b[1m103s\u001b[0m 59ms/step - accuracy: 0.7593 - loss: 0.5735\n",
      "Epoch 8/10\n",
      "\u001b[1m1749/1749\u001b[0m \u001b[32m━━━━━━━━━━━━━━━━━━━━\u001b[0m\u001b[37m\u001b[0m \u001b[1m110s\u001b[0m 63ms/step - accuracy: 0.7801 - loss: 0.5342\n",
      "Epoch 9/10\n",
      "\u001b[1m1749/1749\u001b[0m \u001b[32m━━━━━━━━━━━━━━━━━━━━\u001b[0m\u001b[37m\u001b[0m \u001b[1m129s\u001b[0m 74ms/step - accuracy: 0.7962 - loss: 0.5039\n",
      "Epoch 10/10\n",
      "\u001b[1m1749/1749\u001b[0m \u001b[32m━━━━━━━━━━━━━━━━━━━━\u001b[0m\u001b[37m\u001b[0m \u001b[1m113s\u001b[0m 64ms/step - accuracy: 0.8129 - loss: 0.4727\n",
      "\u001b[1m875/875\u001b[0m \u001b[32m━━━━━━━━━━━━━━━━━━━━\u001b[0m\u001b[37m\u001b[0m \u001b[1m17s\u001b[0m 19ms/step - accuracy: 0.7356 - loss: 0.6331\n",
      "Fold 4 - Test Accuracy: 0.7542\n",
      "Processing fold 5/5...\n",
      "Epoch 1/10\n"
     ]
    },
    {
     "name": "stderr",
     "output_type": "stream",
     "text": [
      "C:\\Users\\User\\AppData\\Local\\Packages\\PythonSoftwareFoundation.Python.3.11_qbz5n2kfra8p0\\LocalCache\\local-packages\\Python311\\site-packages\\keras\\src\\layers\\core\\embedding.py:90: UserWarning: Argument `input_length` is deprecated. Just remove it.\n",
      "  warnings.warn(\n"
     ]
    },
    {
     "name": "stdout",
     "output_type": "stream",
     "text": [
      "\u001b[1m1749/1749\u001b[0m \u001b[32m━━━━━━━━━━━━━━━━━━━━\u001b[0m\u001b[37m\u001b[0m \u001b[1m111s\u001b[0m 62ms/step - accuracy: 0.4122 - loss: 1.0298\n",
      "Epoch 2/10\n",
      "\u001b[1m1749/1749\u001b[0m \u001b[32m━━━━━━━━━━━━━━━━━━━━\u001b[0m\u001b[37m\u001b[0m \u001b[1m115s\u001b[0m 66ms/step - accuracy: 0.5766 - loss: 0.8558\n",
      "Epoch 3/10\n",
      "\u001b[1m1749/1749\u001b[0m \u001b[32m━━━━━━━━━━━━━━━━━━━━\u001b[0m\u001b[37m\u001b[0m \u001b[1m107s\u001b[0m 61ms/step - accuracy: 0.6753 - loss: 0.7139\n",
      "Epoch 4/10\n",
      "\u001b[1m1749/1749\u001b[0m \u001b[32m━━━━━━━━━━━━━━━━━━━━\u001b[0m\u001b[37m\u001b[0m \u001b[1m108s\u001b[0m 62ms/step - accuracy: 0.7177 - loss: 0.6496\n",
      "Epoch 5/10\n",
      "\u001b[1m1749/1749\u001b[0m \u001b[32m━━━━━━━━━━━━━━━━━━━━\u001b[0m\u001b[37m\u001b[0m \u001b[1m118s\u001b[0m 68ms/step - accuracy: 0.7441 - loss: 0.6044\n",
      "Epoch 6/10\n",
      "\u001b[1m1749/1749\u001b[0m \u001b[32m━━━━━━━━━━━━━━━━━━━━\u001b[0m\u001b[37m\u001b[0m \u001b[1m108s\u001b[0m 62ms/step - accuracy: 0.7597 - loss: 0.5701\n",
      "Epoch 7/10\n",
      "\u001b[1m1749/1749\u001b[0m \u001b[32m━━━━━━━━━━━━━━━━━━━━\u001b[0m\u001b[37m\u001b[0m \u001b[1m114s\u001b[0m 65ms/step - accuracy: 0.7790 - loss: 0.5351\n",
      "Epoch 8/10\n",
      "\u001b[1m1749/1749\u001b[0m \u001b[32m━━━━━━━━━━━━━━━━━━━━\u001b[0m\u001b[37m\u001b[0m \u001b[1m110s\u001b[0m 63ms/step - accuracy: 0.7924 - loss: 0.5060\n",
      "Epoch 9/10\n",
      "\u001b[1m1749/1749\u001b[0m \u001b[32m━━━━━━━━━━━━━━━━━━━━\u001b[0m\u001b[37m\u001b[0m \u001b[1m108s\u001b[0m 62ms/step - accuracy: 0.8077 - loss: 0.4745\n",
      "Epoch 10/10\n",
      "\u001b[1m1749/1749\u001b[0m \u001b[32m━━━━━━━━━━━━━━━━━━━━\u001b[0m\u001b[37m\u001b[0m \u001b[1m109s\u001b[0m 62ms/step - accuracy: 0.8170 - loss: 0.4541\n",
      "\u001b[1m875/875\u001b[0m \u001b[32m━━━━━━━━━━━━━━━━━━━━\u001b[0m\u001b[37m\u001b[0m \u001b[1m16s\u001b[0m 18ms/step - accuracy: 0.7440 - loss: 0.6181\n",
      "Fold 5 - Test Accuracy: 0.7556\n",
      "Average Accuracy across 5 folds: 0.7547\n"
     ]
    }
   ],
   "source": [
    "from sklearn.model_selection import KFold\n",
    "import numpy as np\n",
    "from tensorflow.keras.models import Sequential\n",
    "from tensorflow.keras.layers import Embedding, GRU, Dense, Dropout\n",
    "from tensorflow.keras.optimizers import Adam\n",
    "\n",
    "# Numărul de folds\n",
    "num_folds = 5\n",
    "kf = KFold(n_splits=num_folds, shuffle=True, random_state=42)\n",
    "\n",
    "# Pregătește datele\n",
    "X = pad_sequences(sequences, maxlen=max_length, padding='post')\n",
    "y = y_res  # Asigură-te că `y_res` este corect pregătit\n",
    "\n",
    "# Pentru stocarea rezultatelor\n",
    "fold_accuracies = []\n",
    "\n",
    "# K-Fold Cross-Validation\n",
    "for fold, (train_index, test_index) in enumerate(kf.split(X)):\n",
    "    print(f\"Processing fold {fold + 1}/{num_folds}...\")\n",
    "    \n",
    "    # Împarte datele în train și test\n",
    "    X_train, X_test = X[train_index], X[test_index]\n",
    "    y_train, y_test = y[train_index], y[test_index]\n",
    "    \n",
    "    # Creează modelul pentru fiecare fold\n",
    "    model = Sequential([\n",
    "        Embedding(input_dim=num_words, \n",
    "                  output_dim=embedding_dim, \n",
    "                  weights=[embedding_matrix], \n",
    "                  input_length=max_length, \n",
    "                  trainable=False),\n",
    "        GRU(64, return_sequences=False),\n",
    "        Dropout(0.5),\n",
    "        Dense(32, activation='relu'),\n",
    "        Dense(3, activation='softmax')\n",
    "    ])\n",
    "    \n",
    "    # Compilează modelul\n",
    "    model.compile(optimizer=Adam(),\n",
    "                  loss='sparse_categorical_crossentropy',\n",
    "                  metrics=['accuracy'])\n",
    "    \n",
    "    # Antrenează modelul\n",
    "    model.fit(X_train, y_train, epochs=10, batch_size=64, verbose=1)\n",
    "    \n",
    "    # Evaluează modelul\n",
    "    loss, accuracy = model.evaluate(X_test, y_test, verbose=1)\n",
    "    print(f\"Fold {fold + 1} - Test Accuracy: {accuracy:.4f}\")\n",
    "    fold_accuracies.append(accuracy)\n",
    "\n",
    "# Media acurateței pe toate fold-urile\n",
    "average_accuracy = np.mean(fold_accuracies)\n",
    "print(f\"Average Accuracy across {num_folds} folds: {average_accuracy:.4f}\")\n"
   ]
  },
  {
   "cell_type": "code",
   "execution_count": null,
   "metadata": {},
   "outputs": [],
   "source": []
  },
  {
   "cell_type": "code",
   "execution_count": 7,
   "metadata": {},
   "outputs": [
    {
     "name": "stdout",
     "output_type": "stream",
     "text": [
      "[ 12.  42. 114. 179.]\n"
     ]
    }
   ],
   "source": [
    "import numpy as np\n",
    "text_lengths = data_combined['text'].apply(lambda x: len(x.split()))\n",
    "print(np.percentile(text_lengths, [50, 75, 90, 95]))  # Percentile pentru lungimi\n",
    "\n"
   ]
  },
  {
   "cell_type": "code",
   "execution_count": 8,
   "metadata": {},
   "outputs": [
    {
     "name": "stdout",
     "output_type": "stream",
     "text": [
      "103481\n"
     ]
    }
   ],
   "source": [
    "from collections import Counter\n",
    "all_words = ' '.join(data_combined['text']).split()\n",
    "word_counts = Counter(all_words)\n",
    "print(len(word_counts))  # Total cuvinte unice\n"
   ]
  },
  {
   "cell_type": "code",
   "execution_count": 10,
   "metadata": {},
   "outputs": [],
   "source": [
    "import numpy as np\n",
    "embedding_index = {}\n",
    "with open('glove.6B/glove.6B.100d.txt', encoding='utf-8') as f:\n",
    "    for line in f:\n",
    "        values = line.split()\n",
    "        word = values[0]\n",
    "        coefs = np.asarray(values[1:], dtype='float32')\n",
    "        embedding_index[word] = coefs\n"
   ]
  },
  {
   "cell_type": "code",
   "execution_count": 15,
   "metadata": {},
   "outputs": [],
   "source": [
    "from sklearn.model_selection import train_test_split\n",
    "from tensorflow.keras.preprocessing.text import Tokenizer\n",
    "from tensorflow.keras.preprocessing.sequence import pad_sequences\n",
    "from tensorflow.keras.models import Sequential\n",
    "from tensorflow.keras.layers import Embedding, GRU, Dense, Dropout\n",
    "\n",
    "# 1. Pregătirea datelor\n",
    "# Tokenizare și transformare în secvențe\n",
    "tokenizer = Tokenizer(num_words=10000, oov_token=\"<OOV>\")\n"
   ]
  },
  {
   "cell_type": "code",
   "execution_count": 18,
   "metadata": {},
   "outputs": [],
   "source": [
    "embedding_dim = 100  # Depinde de versiunea descărcată (ex: 50, 100, 200, 300)\n",
    "word_index = tokenizer.word_index\n",
    "embedding_matrix = np.zeros((num_words, embedding_dim))\n",
    "for word, i in word_index.items():\n",
    "    if i < num_words:\n",
    "        embedding_vector = embedding_index.get(word)\n",
    "        if embedding_vector is not None:\n",
    "            embedding_matrix[i] = embedding_vector\n"
   ]
  },
  {
   "cell_type": "code",
   "execution_count": 20,
   "metadata": {},
   "outputs": [],
   "source": [
    "max_length = 100"
   ]
  },
  {
   "cell_type": "code",
   "execution_count": 21,
   "metadata": {},
   "outputs": [
    {
     "name": "stderr",
     "output_type": "stream",
     "text": [
      "C:\\Users\\User\\AppData\\Local\\Packages\\PythonSoftwareFoundation.Python.3.11_qbz5n2kfra8p0\\LocalCache\\local-packages\\Python311\\site-packages\\keras\\src\\layers\\core\\embedding.py:90: UserWarning: Argument `input_length` is deprecated. Just remove it.\n",
      "  warnings.warn(\n"
     ]
    }
   ],
   "source": [
    "embedding_layer = Embedding(input_dim=num_words, \n",
    "                             output_dim=embedding_dim,\n",
    "                             weights=[embedding_matrix],\n",
    "                             input_length=max_length,\n",
    "                             trainable=False)  # Freezing embedding weights\n",
    "model = Sequential([\n",
    "    embedding_layer,\n",
    "    GRU(64, return_sequences=False),\n",
    "    Dense(32, activation='relu'),\n",
    "    Dense(3, activation='softmax')\n",
    "])\n"
   ]
  },
  {
   "cell_type": "code",
   "execution_count": null,
   "metadata": {},
   "outputs": [],
   "source": []
  },
  {
   "cell_type": "code",
   "execution_count": null,
   "metadata": {},
   "outputs": [],
   "source": []
  }
 ],
 "metadata": {
  "kernelspec": {
   "display_name": "Python 3",
   "language": "python",
   "name": "python3"
  },
  "language_info": {
   "codemirror_mode": {
    "name": "ipython",
    "version": 3
   },
   "file_extension": ".py",
   "mimetype": "text/x-python",
   "name": "python",
   "nbconvert_exporter": "python",
   "pygments_lexer": "ipython3",
   "version": "3.11.9"
  }
 },
 "nbformat": 4,
 "nbformat_minor": 2
}
